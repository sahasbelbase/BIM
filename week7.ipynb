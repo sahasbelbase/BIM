{
 "cells": [
  {
   "cell_type": "code",
   "execution_count": 1,
   "id": "1b4913f0",
   "metadata": {},
   "outputs": [],
   "source": [
    "import random\n",
    "import re\n",
    "import os\n",
    "import math\n",
    "import nltk\n",
    "from nltk.corpus import stopwords\n",
    "from nltk.tokenize import word_tokenize\n",
    "from nltk.stem import WordNetLemmatizer\n",
    "from collections import defaultdict"
   ]
  },
  {
   "cell_type": "code",
   "execution_count": 2,
   "id": "759392f9",
   "metadata": {},
   "outputs": [
    {
     "name": "stderr",
     "output_type": "stream",
     "text": [
      "[nltk_data] Downloading package stopwords to\n",
      "[nltk_data]     C:\\Users\\Delta\\AppData\\Roaming\\nltk_data...\n",
      "[nltk_data]   Package stopwords is already up-to-date!\n",
      "[nltk_data] Downloading package punkt to\n",
      "[nltk_data]     C:\\Users\\Delta\\AppData\\Roaming\\nltk_data...\n",
      "[nltk_data]   Package punkt is already up-to-date!\n",
      "[nltk_data] Downloading package wordnet to\n",
      "[nltk_data]     C:\\Users\\Delta\\AppData\\Roaming\\nltk_data...\n",
      "[nltk_data]   Package wordnet is already up-to-date!\n"
     ]
    },
    {
     "data": {
      "text/plain": [
       "True"
      ]
     },
     "execution_count": 2,
     "metadata": {},
     "output_type": "execute_result"
    }
   ],
   "source": [
    "nltk.download('stopwords')\n",
    "nltk.download('punkt')\n",
    "nltk.download('wordnet')"
   ]
  },
  {
   "cell_type": "code",
   "execution_count": 3,
   "id": "ccc75f9e",
   "metadata": {},
   "outputs": [],
   "source": [
    "STOP_WORDS = stopwords.words('english')\n",
    "LEMMA = WordNetLemmatizer()"
   ]
  },
  {
   "cell_type": "code",
   "execution_count": 4,
   "id": "d6fdd9a1",
   "metadata": {},
   "outputs": [],
   "source": [
    "def preprocess_text(input_text):\n",
    "    input_text = input_text.lower()\n",
    "    input_text = re.sub(r\"[^a-zA-Z0-9\\s]\", \"\", input_text)\n",
    "    input_text = re.sub(r\"\\d+\", \"\", input_text)\n",
    "    token_list = word_tokenize(input_text)\n",
    "    processed_tokens = [LEMMA.lemmatize(word) for word in token_list if word not in STOP_WORDS]\n",
    "    return processed_tokens\n"
   ]
  },
  {
   "cell_type": "code",
   "execution_count": 5,
   "id": "5f03749b",
   "metadata": {},
   "outputs": [],
   "source": [
    "def load_documents_from_path(path_to_docs):\n",
    "    doc_data = {}\n",
    "    for file in os.listdir(path_to_docs):\n",
    "        if file.endswith(\".txt\"):\n",
    "            with open(os.path.join(path_to_docs, file), 'r', encoding='utf-8') as f:\n",
    "                doc_data[file] = preprocess_text(f.read())\n",
    "    return doc_data\n"
   ]
  },
  {
   "cell_type": "code",
   "execution_count": 6,
   "id": "ecd0bb5c",
   "metadata": {},
   "outputs": [],
   "source": [
    "def fetch_query(query_file):\n",
    "    with open(query_file, 'r') as f:\n",
    "        return [line.strip() for line in f.readlines()]"
   ]
  },
  {
   "cell_type": "code",
   "execution_count": 7,
   "id": "1cf48a47",
   "metadata": {},
   "outputs": [],
   "source": [
    "def calculate_stats(docs):\n",
    "    total_docs = len(docs)\n",
    "    term_doc_frequency = defaultdict(int)\n",
    "    term_frequencies = defaultdict(lambda: defaultdict(int))\n",
    "\n",
    "    for doc_id, terms in docs.items():\n",
    "        print(doc_id)\n",
    "        unique_terms = set(terms)\n",
    "        for term in terms:\n",
    "            term_frequencies[doc_id][term] += 1\n",
    "        for term in unique_terms:\n",
    "            term_doc_frequency[term] += 1\n",
    "\n",
    "    return term_frequencies, term_doc_frequency, total_docs"
   ]
  },
  {
   "cell_type": "code",
   "execution_count": 8,
   "id": "8b0f3cdc",
   "metadata": {},
   "outputs": [],
   "source": [
    "def calculate_relevance(query, term_frequencies, term_doc_frequency, total_docs):\n",
    "    doc_scores = {}\n",
    "    for doc_id in term_frequencies:\n",
    "        doc_score = 1.0\n",
    "        for term in query:\n",
    "            term_frequency = term_frequencies[doc_id].get(term, 0)\n",
    "            document_frequency = term_doc_frequency.get(term, 0)\n",
    "            p_term_in_relevant = (term_frequency + 1) / (sum(term_frequencies[doc_id].values()) + len(term_doc_frequency))\n",
    "            p_term_in_non_relevant = (document_frequency + 1) / (total_docs - document_frequency + len(term_doc_frequency))\n",
    "            doc_score *= (p_term_in_relevant / p_term_in_non_relevant)\n",
    "        doc_scores[doc_id] = doc_score\n",
    "    return doc_scores"
   ]
  },
  {
   "cell_type": "code",
   "execution_count": 9,
   "id": "08fed814",
   "metadata": {},
   "outputs": [],
   "source": [
    "def perform_document_retrieval(doc_path, query_file):\n",
    "    docs = load_documents_from_path(doc_path)\n",
    "    queries = fetch_query(query_file)\n",
    "\n",
    "    term_frequencies, term_doc_frequency, total_docs = calculate_stats(docs)\n",
    "\n",
    "    for query in queries:\n",
    "        query_terms = preprocess_text(query)\n",
    "        doc_scores = calculate_relevance(query_terms, term_frequencies, term_doc_frequency, total_docs)\n",
    "        ranked_documents = sorted(doc_scores.items(), key=lambda item: item[1], reverse=True)\n",
    "        print(f\"Query: {query}\")\n",
    "        for filename, score in ranked_documents:\n",
    "            print(f\"Document: {filename}, Score: {score:.4f}\")\n",
    "        print()"
   ]
  },
  {
   "cell_type": "code",
   "execution_count": 17,
   "id": "8ffd1e4f",
   "metadata": {},
   "outputs": [
    {
     "name": "stdout",
     "output_type": "stream",
     "text": [
      "Cultural Heritage of Ukraine.txt\n",
      "Economic Relations Between Russia and Ukraine.txt\n",
      "GlobalView.txt\n",
      "HelloRussia.txt\n",
      "Historical Context of Russia-Ukraine Relations.txt\n",
      "NATO's Influence on Ukraine's Defense Strategy.txt\n",
      "Natural Resources in Russia's Economy.txt\n",
      "Putin.txt\n",
      "Recent Conflicts and Regional Stability.txt\n",
      "Russia's History and Modern Geopolitics.txt\n",
      "Russian Culture and National Identity.txt\n",
      "The Cold War's Impact on Russia-Ukraine Relations.txt\n",
      "The Cultural Dynamics of Ukraine.txt\n",
      "The Impact of the Conflict on Ukrainian Society.txt\n",
      "The Role of Natural Resources in Russia's Economy.txt\n",
      "Ukrain.txt\n",
      "Ukraine's Agricultural Sector.txt\n",
      "Ukraine's EU Membership Aspirations.txt\n",
      "Ukraine's Pursuit of European Integration.txt\n",
      "WaronRussiaandUkrain.txt\n",
      "Query: Ukraine conflict 2022\n",
      "Document: HelloRussia.txt, Score: 0.5000\n",
      "Document: The Impact of the Conflict on Ukrainian Society.txt, Score: 0.3070\n",
      "Document: Historical Context of Russia-Ukraine Relations.txt, Score: 0.1638\n",
      "Document: Ukraine's Pursuit of European Integration.txt, Score: 0.0814\n",
      "Document: GlobalView.txt, Score: 0.0766\n",
      "Document: Recent Conflicts and Regional Stability.txt, Score: 0.0482\n",
      "Document: WaronRussiaandUkrain.txt, Score: 0.0440\n",
      "Document: The Cold War's Impact on Russia-Ukraine Relations.txt, Score: 0.0402\n",
      "Document: NATO's Influence on Ukraine's Defense Strategy.txt, Score: 0.0400\n",
      "Document: Ukraine's EU Membership Aspirations.txt, Score: 0.0321\n",
      "Document: Ukraine's Agricultural Sector.txt, Score: 0.0319\n",
      "Document: The Cultural Dynamics of Ukraine.txt, Score: 0.0303\n",
      "Document: Ukrain.txt, Score: 0.0254\n",
      "Document: Economic Relations Between Russia and Ukraine.txt, Score: 0.0199\n",
      "Document: Putin.txt, Score: 0.0114\n",
      "Document: Russia's History and Modern Geopolitics.txt, Score: 0.0080\n",
      "Document: Cultural Heritage of Ukraine.txt, Score: 0.0079\n",
      "Document: Russian Culture and National Identity.txt, Score: 0.0040\n",
      "Document: Natural Resources in Russia's Economy.txt, Score: 0.0040\n",
      "Document: The Role of Natural Resources in Russia's Economy.txt, Score: 0.0032\n",
      "\n",
      "Query: Russian military invasion\n",
      "Document: HelloRussia.txt, Score: 2.2601\n",
      "Document: Putin.txt, Score: 0.1294\n",
      "Document: GlobalView.txt, Score: 0.0419\n",
      "Document: WaronRussiaandUkrain.txt, Score: 0.0412\n",
      "Document: Historical Context of Russia-Ukraine Relations.txt, Score: 0.0164\n",
      "Document: Ukrain.txt, Score: 0.0102\n",
      "Document: Russian Culture and National Identity.txt, Score: 0.0078\n",
      "Document: The Role of Natural Resources in Russia's Economy.txt, Score: 0.0070\n",
      "Document: Economic Relations Between Russia and Ukraine.txt, Score: 0.0058\n",
      "Document: Recent Conflicts and Regional Stability.txt, Score: 0.0039\n",
      "Document: NATO's Influence on Ukraine's Defense Strategy.txt, Score: 0.0039\n",
      "Document: Russia's History and Modern Geopolitics.txt, Score: 0.0039\n",
      "Document: Ukraine's Pursuit of European Integration.txt, Score: 0.0027\n",
      "Document: The Cultural Dynamics of Ukraine.txt, Score: 0.0026\n",
      "Document: The Cold War's Impact on Russia-Ukraine Relations.txt, Score: 0.0020\n",
      "Document: Ukraine's EU Membership Aspirations.txt, Score: 0.0020\n",
      "Document: Ukraine's Agricultural Sector.txt, Score: 0.0019\n",
      "Document: Natural Resources in Russia's Economy.txt, Score: 0.0019\n",
      "Document: Cultural Heritage of Ukraine.txt, Score: 0.0019\n",
      "Document: The Impact of the Conflict on Ukrainian Society.txt, Score: 0.0013\n",
      "\n",
      "Query: Effects of sanctions on Russia\n",
      "Document: GlobalView.txt, Score: 0.5496\n",
      "Document: HelloRussia.txt, Score: 0.1206\n",
      "Document: Historical Context of Russia-Ukraine Relations.txt, Score: 0.0329\n",
      "Document: The Role of Natural Resources in Russia's Economy.txt, Score: 0.0266\n",
      "Document: Economic Relations Between Russia and Ukraine.txt, Score: 0.0201\n",
      "Document: The Impact of the Conflict on Ukrainian Society.txt, Score: 0.0181\n",
      "Document: Russia's History and Modern Geopolitics.txt, Score: 0.0168\n",
      "Document: NATO's Influence on Ukraine's Defense Strategy.txt, Score: 0.0135\n",
      "Document: Natural Resources in Russia's Economy.txt, Score: 0.0133\n",
      "Document: The Cold War's Impact on Russia-Ukraine Relations.txt, Score: 0.0102\n",
      "Document: Ukraine's Pursuit of European Integration.txt, Score: 0.0093\n",
      "Document: WaronRussiaandUkrain.txt, Score: 0.0089\n",
      "Document: Ukrain.txt, Score: 0.0087\n",
      "Document: Recent Conflicts and Regional Stability.txt, Score: 0.0068\n",
      "Document: Ukraine's EU Membership Aspirations.txt, Score: 0.0068\n",
      "Document: Putin.txt, Score: 0.0061\n",
      "Document: Russian Culture and National Identity.txt, Score: 0.0034\n",
      "Document: Ukraine's Agricultural Sector.txt, Score: 0.0033\n",
      "Document: Cultural Heritage of Ukraine.txt, Score: 0.0033\n",
      "Document: The Cultural Dynamics of Ukraine.txt, Score: 0.0022\n",
      "\n",
      "Query: Ukraine peace talks\n",
      "Document: The Impact of the Conflict on Ukrainian Society.txt, Score: 0.2284\n",
      "Document: Historical Context of Russia-Ukraine Relations.txt, Score: 0.1543\n",
      "Document: Ukraine's Pursuit of European Integration.txt, Score: 0.1529\n",
      "Document: HelloRussia.txt, Score: 0.1341\n",
      "Document: GlobalView.txt, Score: 0.1300\n",
      "Document: Ukrain.txt, Score: 0.1030\n",
      "Document: Recent Conflicts and Regional Stability.txt, Score: 0.1026\n",
      "Document: WaronRussiaandUkrain.txt, Score: 0.0893\n",
      "Document: The Cold War's Impact on Russia-Ukraine Relations.txt, Score: 0.0856\n",
      "Document: NATO's Influence on Ukraine's Defense Strategy.txt, Score: 0.0851\n",
      "Document: Economic Relations Between Russia and Ukraine.txt, Score: 0.0845\n",
      "Document: Ukraine's EU Membership Aspirations.txt, Score: 0.0682\n",
      "Document: Ukraine's Agricultural Sector.txt, Score: 0.0675\n",
      "Document: The Cultural Dynamics of Ukraine.txt, Score: 0.0559\n",
      "Document: Putin.txt, Score: 0.0409\n",
      "Document: Russia's History and Modern Geopolitics.txt, Score: 0.0339\n",
      "Document: Cultural Heritage of Ukraine.txt, Score: 0.0332\n",
      "Document: Russian Culture and National Identity.txt, Score: 0.0169\n",
      "Document: Natural Resources in Russia's Economy.txt, Score: 0.0168\n",
      "Document: The Role of Natural Resources in Russia's Economy.txt, Score: 0.0122\n",
      "\n",
      "Query: Impact of war on global economy\n",
      "Document: GlobalView.txt, Score: 0.1639\n",
      "Document: The Impact of the Conflict on Ukrainian Society.txt, Score: 0.0091\n",
      "Document: The Role of Natural Resources in Russia's Economy.txt, Score: 0.0071\n",
      "Document: Natural Resources in Russia's Economy.txt, Score: 0.0027\n",
      "Document: Ukraine's Agricultural Sector.txt, Score: 0.0020\n",
      "Document: Recent Conflicts and Regional Stability.txt, Score: 0.0014\n",
      "Document: Russia's History and Modern Geopolitics.txt, Score: 0.0014\n",
      "Document: The Cold War's Impact on Russia-Ukraine Relations.txt, Score: 0.0010\n",
      "Document: WaronRussiaandUkrain.txt, Score: 0.0009\n",
      "Document: Economic Relations Between Russia and Ukraine.txt, Score: 0.0007\n",
      "Document: Ukraine's Pursuit of European Integration.txt, Score: 0.0006\n",
      "Document: HelloRussia.txt, Score: 0.0006\n",
      "Document: Ukrain.txt, Score: 0.0006\n",
      "Document: Historical Context of Russia-Ukraine Relations.txt, Score: 0.0004\n",
      "Document: The Cultural Dynamics of Ukraine.txt, Score: 0.0004\n",
      "Document: Ukraine's EU Membership Aspirations.txt, Score: 0.0003\n",
      "Document: NATO's Influence on Ukraine's Defense Strategy.txt, Score: 0.0003\n",
      "Document: Russian Culture and National Identity.txt, Score: 0.0003\n",
      "Document: Cultural Heritage of Ukraine.txt, Score: 0.0003\n",
      "Document: Putin.txt, Score: 0.0002\n",
      "\n",
      "Relevance scores saved to sahas_scores.txt\n"
     ]
    }
   ],
   "source": [
    "def main():\n",
    "    documents_dir = 'C:/Users/Delta/Documents/BIM/BIM/documents/' \n",
    "    query_file_path = 'C:/Users/Delta/Documents/BIM/BIM/queries.txt'\n",
    "    perform_document_retrieval(documents_dir, query_file_path)\n",
    "\n",
    "    def generate_random_relevance_scores(queries, docs, score_range=(0, 1)):\n",
    "        random_scores = {}\n",
    "\n",
    "        for query in queries:\n",
    "            random_scores[query] = {}\n",
    "            for doc in docs:\n",
    "                random_scores[query][doc] = random.randint(score_range[0], score_range[1])\n",
    "\n",
    "        return random_scores\n",
    "\n",
    "    def write_relevance_scores_to_file(relevance_scores, output_file_name):\n",
    "        with open(output_file_name, 'w') as file:\n",
    "            for query, doc_scores in relevance_scores.items():\n",
    "                file.write(f\"Query: {query}\\n\")\n",
    "                for doc, score in doc_scores.items():\n",
    "                    file.write(f\"{doc}: {score}\\n\")\n",
    "                file.write(\"\\n\")\n",
    "\n",
    "    docs = load_documents_from_path(documents_dir)\n",
    "    queries = fetch_query(query_file_path)\n",
    "\n",
    "    random_scores = generate_random_relevance_scores(queries, docs.keys())\n",
    "\n",
    "    output_file_name = 'sahas_scores.txt'\n",
    "    write_relevance_scores_to_file(random_scores, output_file_name)\n",
    "\n",
    "    print(f\"Relevance scores saved to {output_file_name}\")\n",
    "\n",
    "if __name__ == \"__main__\":\n",
    "    main()\n"
   ]
  },
  {
   "cell_type": "code",
   "execution_count": 12,
   "id": "de4fa3c5",
   "metadata": {},
   "outputs": [
    {
     "name": "stdout",
     "output_type": "stream",
     "text": [
      " Volume in drive C is Windows\n",
      " Volume Serial Number is 1809-4465\n",
      "\n",
      " Directory of C:\\Users\\Delta\\Documents\\BIM\n",
      "\n",
      "10/14/2024  03:12 PM    <DIR>          .\n",
      "10/14/2024  03:12 PM    <DIR>          ..\n",
      "10/14/2024  03:08 PM    <DIR>          .ipynb_checkpoints\n",
      "10/14/2024  03:13 PM    <DIR>          BIM\n",
      "10/14/2024  03:12 PM             7,769 Untitled.ipynb\n",
      "               1 File(s)          7,769 bytes\n",
      "               4 Dir(s)  397,209,866,240 bytes free\n"
     ]
    }
   ],
   "source": []
  },
  {
   "cell_type": "code",
   "execution_count": 13,
   "id": "192587ec",
   "metadata": {},
   "outputs": [
    {
     "name": "stdout",
     "output_type": "stream",
     "text": [
      "C:\\Users\\Delta\\Documents\\BIM\\BIM\n"
     ]
    }
   ],
   "source": [
    "cd BIM\n"
   ]
  },
  {
   "cell_type": "code",
   "execution_count": 14,
   "id": "6e1ec01f",
   "metadata": {},
   "outputs": [
    {
     "name": "stdout",
     "output_type": "stream",
     "text": [
      " Volume in drive C is Windows\n",
      " Volume Serial Number is 1809-4465\n",
      "\n",
      " Directory of C:\\Users\\Delta\\Documents\\BIM\\BIM\n",
      "\n",
      "10/14/2024  03:13 PM    <DIR>          .\n",
      "10/14/2024  03:13 PM    <DIR>          ..\n",
      "10/14/2024  03:10 PM    <DIR>          documents\n",
      "10/14/2024  03:13 PM                35 queries.txt\n",
      "10/14/2024  03:08 PM                 5 README.md\n",
      "               2 File(s)             40 bytes\n",
      "               3 Dir(s)  397,209,841,664 bytes free\n"
     ]
    }
   ],
   "source": []
  },
  {
   "cell_type": "code",
   "execution_count": null,
   "id": "d360e5ee",
   "metadata": {},
   "outputs": [],
   "source": []
  }
 ],
 "metadata": {
  "kernelspec": {
   "display_name": "Python 3 (ipykernel)",
   "language": "python",
   "name": "python3"
  },
  "language_info": {
   "codemirror_mode": {
    "name": "ipython",
    "version": 3
   },
   "file_extension": ".py",
   "mimetype": "text/x-python",
   "name": "python",
   "nbconvert_exporter": "python",
   "pygments_lexer": "ipython3",
   "version": "3.11.5"
  }
 },
 "nbformat": 4,
 "nbformat_minor": 5
}
